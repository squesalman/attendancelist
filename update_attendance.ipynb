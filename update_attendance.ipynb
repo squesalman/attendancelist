{
 "metadata": {
  "language_info": {
   "codemirror_mode": {
    "name": "ipython",
    "version": 3
   },
   "file_extension": ".py",
   "mimetype": "text/x-python",
   "name": "python",
   "nbconvert_exporter": "python",
   "pygments_lexer": "ipython3",
   "version": "3.7.3-final"
  },
  "orig_nbformat": 2,
  "kernelspec": {
   "name": "python3",
   "display_name": "Python 3"
  }
 },
 "nbformat": 4,
 "nbformat_minor": 2,
 "cells": [
  {
   "cell_type": "code",
   "execution_count": 91,
   "metadata": {},
   "outputs": [],
   "source": [
    "# IMPORTANT : Transform the attendancelist extracted from MS Teams to UTF-8 code first!!\n",
    "# Pandas script to read multiple csv file and remove duplicate from MS Teams attendance list\n",
    "# Place the script in the same folder as your attendancelist csv\n",
    "# Change the path accordingly in first cell and in to_csv function\n",
    "# optional function dataframe.shape : to see how many rows and columns\n",
    "# Optional function dataframe.head(0) : to see the headers\n",
    "import pandas as pd\n",
    "import glob\n",
    "\n",
    "path = r'C:\\Users\\mshafique.salman\\OneDrive - PETRONAS\\Documents\\Python\\Attendance'\n",
    "all_files = glob.glob(path + \"/*.csv\")\n",
    "\n",
    "li = []\n",
    "\n",
    "for filename in all_files:\n",
    "    df = pd.read_csv(filename,index_col=None,header=0)\n",
    "    li.append(df)"
   ]
  },
  {
   "cell_type": "code",
   "execution_count": 89,
   "metadata": {},
   "outputs": [],
   "source": [
    "frame = pd.concat(li,axis=0,ignore_index=True)"
   ]
  },
  {
   "cell_type": "code",
   "execution_count": 78,
   "metadata": {},
   "outputs": [],
   "source": [
    "newframe = frame.drop_duplicates(subset='Full Name',inplace=False)"
   ]
  },
  {
   "cell_type": "code",
   "execution_count": 81,
   "metadata": {},
   "outputs": [],
   "source": [
    "newframe.to_csv(r'C:\\Users\\mshafique.salman\\OneDrive - PETRONAS\\Documents\\Python\\Attendance\\attendancelist.csv',index=False)"
   ]
  }
 ]
}